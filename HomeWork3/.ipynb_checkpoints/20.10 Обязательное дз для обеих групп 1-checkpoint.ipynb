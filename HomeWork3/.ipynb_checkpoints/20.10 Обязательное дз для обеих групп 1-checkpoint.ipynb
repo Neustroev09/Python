{
 "cells": [
  {
   "cell_type": "markdown",
   "metadata": {
    "id": "oE83eZ7L7-5q"
   },
   "source": [
    "# План:\n",
    "1. Python\n",
    "2. Numpy\n",
    "3. Pandas\n",
    "4. Regexp + regexp with dataframes\n",
    "5. Texts\n",
    "6. Matplotlib, Seaborn\n",
    "7. Classification, clustering, binary, multiclass, multilabel\n",
    "8. Metrics\n",
    "9. Feature extraction\n",
    "10. Pyspark/sql"
   ]
  },
  {
   "cell_type": "markdown",
   "metadata": {
    "id": "f5XKaq5x7-5u"
   },
   "source": [
    "<img src=\"gifs/start.gif\" width=\"400\">"
   ]
  },
  {
   "cell_type": "markdown",
   "metadata": {
    "id": "5W1f3O2r7-5u"
   },
   "source": [
    "# Python\n",
    "\n",
    "* Целая куча упражнений на типы данных\\операторы и функции\n",
    "\n",
    "https://www.w3resource.com/python-exercises/"
   ]
  },
  {
   "cell_type": "markdown",
   "metadata": {
    "id": "ZHddAJ4I7-5v"
   },
   "source": [
    "Типы данных:\n",
    "    * Числа (7382, 3.14, 3+4j, Decimal, Fraction)\n",
    "    * Строки ('net', \"your's\", u'радость')\n",
    "    * Списки ([1, [2, 'three'], 4])\n",
    "    * Словари ({'Alex': 2, 'Brian': 4})\n",
    "    * Кортежи ('Leo', 21.7, 'single')\n",
    "    * Множества (set(1,2,3), {'a', 'b', 'c'})\n",
    "    * Файлы (open('myfile', 'r'))"
   ]
  },
  {
   "cell_type": "markdown",
   "metadata": {
    "id": "UKn_wHVK7-5v"
   },
   "source": [
    "1. Склеить 3 подстроки \"ada\", \"lovelace\", \"was considered the world's first computer programmer.\". Первые две строки сделать с большой буквы.  (★☆☆)"
   ]
  },
  {
   "cell_type": "code",
   "execution_count": 1,
   "metadata": {
    "id": "jRBB73ve7-5w"
   },
   "outputs": [
    {
     "name": "stdout",
     "output_type": "stream",
     "text": [
      "AdaLovelacewas considered the world's first computer programmer\n"
     ]
    }
   ],
   "source": [
    "str = 'ada'.capitalize()+'lovelace'.capitalize()+\"was considered the world's first computer programmer\"\n",
    "print(str)"
   ]
  },
  {
   "cell_type": "markdown",
   "metadata": {
    "id": "SLC83wKC7-5x"
   },
   "source": [
    "2. Удаление лишних пробельных символов справа, слева, с обоих сторон  (☆☆☆)"
   ]
  },
  {
   "cell_type": "code",
   "execution_count": 2,
   "metadata": {
    "id": "TzYAeuH87-5y"
   },
   "outputs": [
    {
     "data": {
      "text/plain": [
       "\"AdaLovelacewasconsideredtheworld'sfirstcomputerprogrammer\""
      ]
     },
     "execution_count": 2,
     "metadata": {},
     "output_type": "execute_result"
    }
   ],
   "source": [
    " str.replace(\" \", \"\")"
   ]
  },
  {
   "cell_type": "markdown",
   "metadata": {
    "id": "CDNdDtgf7-5y"
   },
   "source": [
    "3. Найти первое вхождение в строку подстроки (☆☆☆)"
   ]
  },
  {
   "cell_type": "code",
   "execution_count": 3,
   "metadata": {
    "id": "UUcgKgMU7-5z"
   },
   "outputs": [
    {
     "data": {
      "text/plain": [
       "7"
      ]
     },
     "execution_count": 3,
     "metadata": {},
     "output_type": "execute_result"
    }
   ],
   "source": [
    "s1=\"But if you stick with me, I’m gonna accomplish great things, Morty, and you’re gonna be part of ’em.\"\n",
    "s2=\"you\"\n",
    "\n",
    "##your code\n",
    "s1.find(s2)"
   ]
  },
  {
   "cell_type": "markdown",
   "metadata": {
    "id": "ucfkW-My7-53"
   },
   "source": [
    "* isdigit - состоит ли строка из цифр;\n",
    "* isalpha - состоит ли строка из букв;\n",
    "* isalnum - состоит ли строка из цифр или букв;\n",
    "* islower - состоит ли строка из символов в нижнем регистре;\n",
    "* isupper - состоит ли строка из символов в верхнем регистре;\n",
    "* istitle - начинаются ли слова в строке с заглавной буквы."
   ]
  },
  {
   "cell_type": "markdown",
   "metadata": {
    "id": "glYpHxe17-53"
   },
   "source": [
    "4. Разбить строку по разделителю (☆☆☆)"
   ]
  },
  {
   "cell_type": "code",
   "execution_count": 4,
   "metadata": {
    "id": "eQdWkDj87-54"
   },
   "outputs": [
    {
     "name": "stdout",
     "output_type": "stream",
     "text": [
      "['Holy', 'cow,', 'Rick!', 'I', 'didn’t', 'know', 'hanging', 'out', 'with', 'you', 'was', 'making', 'me', 'smarter!']\n"
     ]
    }
   ],
   "source": [
    "s1=\"Holy#cow,#Rick!#I#didn’t#know#hanging#out#with#you#was#making#me#smarter!\"\n",
    "\n",
    "##your code\n",
    "s1 = s1.split('#')\n",
    "print(s1)"
   ]
  },
  {
   "cell_type": "markdown",
   "metadata": {
    "id": "ZYvWj__67-54"
   },
   "source": [
    "5. Полученный массив строк склеить через пробел (★☆☆)"
   ]
  },
  {
   "cell_type": "code",
   "execution_count": 5,
   "metadata": {
    "id": "FYahPQbj7-54"
   },
   "outputs": [
    {
     "name": "stdout",
     "output_type": "stream",
     "text": [
      "Holy cow, Rick! I didn’t know hanging out with you was making me smarter!\n"
     ]
    }
   ],
   "source": [
    "s2 = \" \".join(s1)\n",
    "print(s2)"
   ]
  },
  {
   "cell_type": "markdown",
   "metadata": {
    "id": "gBWcMRgA7-54"
   },
   "source": [
    "6. Вывести данные из словаря в три строки в виде \"NAME (age AGE) is a JOB\" (★☆☆)\n",
    "\n",
    "(hint: .format())"
   ]
  },
  {
   "cell_type": "code",
   "execution_count": 6,
   "metadata": {
    "id": "DYRA4y_b7-55"
   },
   "outputs": [
    {
     "name": "stdout",
     "output_type": "stream",
     "text": [
      "Ann (age 29) is a Artist\n",
      "Leo (age 54) is a Programmer\n",
      "Tiffany (age 43) is a Shop Assistant\n"
     ]
    }
   ],
   "source": [
    "personal_data = {1: (\"Ann\", 29, \"Artist\"), \n",
    "               2: (\"Leo\", 54, \"Programmer\"), \n",
    "               3: (\"Tiffany\", 43, \"Shop Assistant\")}\n",
    "\n",
    "##your code\n",
    "for key, value in personal_data.items():\n",
    "    print('{0} (age {1}) is a {2}'.format(value[0], value[1], value[2]))"
   ]
  },
  {
   "cell_type": "markdown",
   "metadata": {
    "id": "i9B4DWOZ7-55"
   },
   "source": [
    "7. Требуется определить, является ли данный год високосным. (год является високосным, если его номер кратен 4, но не кратен 100, а также если он кратен 400.)  (★★☆)\n",
    "\n",
    "Входные данные: Вводится единственное число - номер года (целое, положительное, не превышает 30000).\n",
    "\n",
    "Выходные данные: Требуется вывести слово YES, если год является високосным и NO - в противном случае."
   ]
  },
  {
   "cell_type": "code",
   "execution_count": 7,
   "metadata": {
    "id": "tnB75I627-55"
   },
   "outputs": [
    {
     "name": "stdout",
     "output_type": "stream",
     "text": [
      "2000\n",
      "YES\n"
     ]
    }
   ],
   "source": [
    "year = int(input())\n",
    "\n",
    "if (year%4 == 0 and year%100 != 0) or year%400 == 0:\n",
    "    print('YES')\n",
    "else:\n",
    "    print('NO')"
   ]
  },
  {
   "cell_type": "markdown",
   "metadata": {
    "id": "K_PZ2DEf7-55"
   },
   "source": [
    "8. Закодируйте каждый элемент списка слов числом, результат сопоставления (слово-число) поместите в словарь.  (★☆☆)"
   ]
  },
  {
   "cell_type": "code",
   "execution_count": 8,
   "metadata": {
    "id": "SPs9JyRF7-56"
   },
   "outputs": [
    {
     "name": "stdout",
     "output_type": "stream",
     "text": [
      "{'Not': 0, 'my': 1, 'cup': 2, 'of': 3, 'tea': 4}\n"
     ]
    }
   ],
   "source": [
    "words = ['Not', 'my', 'cup', 'of', 'tea']\n",
    "\n",
    "##your code\n",
    "# Из задания не совсем понятно, как именно должен выглядеть результат\n",
    "d = dict()\n",
    "ind = 0\n",
    "for i in words:\n",
    "    d[i] = ind\n",
    "    ind += 1\n",
    "print(d)"
   ]
  },
  {
   "cell_type": "markdown",
   "metadata": {
    "id": "VpAE38WK7-56"
   },
   "source": [
    "9. Удалить второй элемент из списка по индексу\\по значению  (★☆☆)"
   ]
  },
  {
   "cell_type": "code",
   "execution_count": 9,
   "metadata": {
    "id": "1R9l4Ftu7-56"
   },
   "outputs": [
    {
     "name": "stdout",
     "output_type": "stream",
     "text": [
      "['border collie', 'labrador retriever']\n",
      "['border collie', 'labrador retriever']\n"
     ]
    }
   ],
   "source": [
    "dogs = ['border collie', 'australian cattle dog', 'labrador retriever']\n",
    "dogs_copy = dogs.copy()\n",
    "\n",
    "##your code\n",
    "dogs.remove('australian cattle dog')\n",
    "print(dogs)\n",
    "\n",
    "dogs_copy.pop(1)\n",
    "print(dogs)"
   ]
  },
  {
   "cell_type": "markdown",
   "metadata": {
    "id": "OSHCsLjY7-56"
   },
   "source": [
    "10. Вывести срез списка с 3 по 5 элемент включительно и все слова перевести в верхний регистр (★☆☆)"
   ]
  },
  {
   "cell_type": "code",
   "execution_count": 10,
   "metadata": {
    "id": "JGma4FNP7-56"
   },
   "outputs": [
    {
     "name": "stdout",
     "output_type": "stream",
     "text": [
      "['AUSTRALIAN', 'CATTLE', 'DOG']\n"
     ]
    }
   ],
   "source": [
    "dogs = ['border', 'collie', 'australian', 'cattle', 'dog', 'labrador', 'retriever']\n",
    "\n",
    "##your code\n",
    "print(list(map(lambda x: x.upper(), dogs[2:5])))"
   ]
  },
  {
   "cell_type": "markdown",
   "metadata": {
    "id": "xvQNspgc7-57"
   },
   "source": [
    "11. Словарь словарей. Вывести из словаря для каждого питомца его имя, породу, имя владельца, и наличие прививки. Строку вывода формировать через .format() (★☆☆)"
   ]
  },
  {
   "cell_type": "code",
   "execution_count": 11,
   "metadata": {
    "id": "9T8ZTmf87-57"
   },
   "outputs": [
    {
     "name": "stdout",
     "output_type": "stream",
     "text": [
      "Имя питомца - willie, порода - dog, имя владельца - eric, наличие прививки - True\n",
      "Имя питомца - walter, порода - cockroach, имя владельца - eric, наличие прививки - False\n",
      "Имя питомца - peso, порода - dog, имя владельца - chloe, наличие прививки - True\n"
     ]
    }
   ],
   "source": [
    "pets = {'willie': {'kind': 'dog', 'owner': 'eric', 'vaccinated': True},\n",
    "        'walter': {'kind': 'cockroach', 'owner': 'eric', 'vaccinated': False},\n",
    "        'peso': {'kind': 'dog', 'owner': 'chloe', 'vaccinated': True},\n",
    "        }\n",
    "\n",
    "##your code\n",
    "for key, value in pets.items():\n",
    "    print('Имя питомца - {0}, порода - {1}, имя владельца - {2}, наличие прививки - {3}'.format(\n",
    "        key, value['kind'], value['owner'], value['vaccinated']))"
   ]
  },
  {
   "cell_type": "markdown",
   "metadata": {
    "id": "Bah9sBea7-57"
   },
   "source": [
    "12. Проверить является ли множество подмножеством другого множества  (★☆☆)"
   ]
  },
  {
   "cell_type": "code",
   "execution_count": 12,
   "metadata": {
    "id": "LvJCOUVy7-57"
   },
   "outputs": [
    {
     "name": "stdout",
     "output_type": "stream",
     "text": [
      "Является\n"
     ]
    }
   ],
   "source": [
    "a=set([2, 5, 6])\n",
    "b=set([2, 4, 8, 3, 5, 6])\n",
    "\n",
    "##your code\n",
    "print('Является' if a&b == a else 'Не является')"
   ]
  },
  {
   "cell_type": "markdown",
   "metadata": {
    "id": "sfVwYMPL7-57"
   },
   "source": [
    "13. Объединить несколько множеств (★☆☆)"
   ]
  },
  {
   "cell_type": "code",
   "execution_count": 13,
   "metadata": {
    "id": "hrKKF3kp7-58"
   },
   "outputs": [
    {
     "name": "stdout",
     "output_type": "stream",
     "text": [
      "{2, 35, 3, 5, 6, 4, 8, 10}\n"
     ]
    }
   ],
   "source": [
    "a=set([10, 35, 6, 5])\n",
    "b=set([2, 4, 8, 3, 5, 6, 35])\n",
    "c=set([4, 5, 35])\n",
    "\n",
    "##your code\n",
    "d = a|b|c\n",
    "print(d)"
   ]
  },
  {
   "cell_type": "markdown",
   "metadata": {
    "id": "bI5lcYGM7-58"
   },
   "source": [
    "14. Посчитать пересечение множества b с остальными из предыдущего задания  (★★☆)\n",
    "\n",
    "(hint: set.intersection(other, ...) (или set & other &) )"
   ]
  },
  {
   "cell_type": "code",
   "execution_count": 14,
   "metadata": {
    "id": "ZpsU-iaT7-58"
   },
   "outputs": [
    {
     "name": "stdout",
     "output_type": "stream",
     "text": [
      "{35, 5, 6}\n",
      "{2, 3, 4, 5, 6, 35, 8}\n",
      "{35, 4, 5}\n",
      "{2, 3, 4, 5, 6, 35, 8}\n"
     ]
    }
   ],
   "source": [
    "print(b&a)\n",
    "print(b&b)\n",
    "print(b&c)\n",
    "print(b&d)"
   ]
  },
  {
   "cell_type": "markdown",
   "metadata": {
    "id": "uVuXAMxR7-58"
   },
   "source": [
    "15. Вывести множество из элементов, встречающихся в одном множестве, но не встречающиеся в обоих. (★★☆)\n",
    "\n",
    "(hint: .symmetric_difference())"
   ]
  },
  {
   "cell_type": "code",
   "execution_count": 15,
   "metadata": {
    "id": "EmdVX2Vn7-58"
   },
   "outputs": [
    {
     "name": "stdout",
     "output_type": "stream",
     "text": [
      "{1, 2, 6, 7}\n"
     ]
    }
   ],
   "source": [
    "a=set([1, 2, 3, 4, 5])\n",
    "b=set([3, 4, 5, 6, 7])\n",
    "\n",
    "##your code\n",
    "print(a^b)"
   ]
  },
  {
   "cell_type": "markdown",
   "metadata": {
    "id": "IzGjqSPG7-58"
   },
   "source": [
    "16. Предположим, есть файл с данными клиентов. В качестве простого примера воьзьмем txt-файл(нужно создать файл с предложенным/другим содержанием самостоятельно) следующего содержания:\n",
    "\n",
    "    lastname,age,debt,occupation\n",
    "    \n",
    "    Adrianov,25,30000,artist\n",
    "    \n",
    "    Нужно считать файл data/credit_sample.txt.\n",
    "    Сделать словарь вида:\n",
    "        {lastname: (age,debt,occupation)}\n",
    "    \n",
    "    Посчитать сколько уникальных профессий получилось в словаре.\n",
    "    \n",
    "    Результат записать в json (★★★)"
   ]
  },
  {
   "cell_type": "code",
   "execution_count": 16,
   "metadata": {
    "id": "-Tmno7Y27-59"
   },
   "outputs": [
    {
     "name": "stdout",
     "output_type": "stream",
     "text": [
      "{'Adrianov': ('25', '30000', 'artist'), 'Belkin': ('42', '4000', 'programmer'), 'Koltunov': ('32', '100', 'sportsman'), 'Loptev': ('25', '30000', 'artist'), 'Bobrov': ('42', '4000', 'programmer'), 'Karelin': ('32', '100', 'sportsman')}\n",
      "3 уникальных профессий {'programmer', 'artist', 'sportsman'}\n"
     ]
    }
   ],
   "source": [
    "file = open('data/credit_sample.txt','r')\n",
    "\n",
    "dc = dict() \n",
    "occupation = set()\n",
    "firstRow = True\n",
    "\n",
    "for row in file:\n",
    "    if firstRow:\n",
    "        firstRow = False\n",
    "        continue \n",
    "    row = row.split(',')\n",
    "    dc[row[0]] = (row[1], row[2], row[3][0:-1])\n",
    "    occupation.add(row[3][0:-1])\n",
    "\n",
    "print(dc)\n",
    "print('{0} уникальных профессий'.format(len(occupation)), occupation)"
   ]
  },
  {
   "cell_type": "markdown",
   "metadata": {
    "id": "L-rqo8bV7-59"
   },
   "source": [
    "### os, sys, datetime"
   ]
  },
  {
   "cell_type": "code",
   "execution_count": 17,
   "metadata": {},
   "outputs": [],
   "source": [
    "import os"
   ]
  },
  {
   "cell_type": "markdown",
   "metadata": {
    "id": "d_Xl0_Sn7-5-"
   },
   "source": [
    "17. Получить список файлов в папке gifs/ и оставить только файлы с расширением .gif (★★☆)"
   ]
  },
  {
   "cell_type": "code",
   "execution_count": 18,
   "metadata": {
    "id": "BbX1vHg27-5-"
   },
   "outputs": [
    {
     "name": "stdout",
     "output_type": "stream",
     "text": [
      "['cat.gif', 'dog.gif', 'Microsoft Publisher Document.pub', 'pig.gif', 'Документ Microsoft Word.docx', 'Лист Microsoft Excel.xlsx', 'Презентация Microsoft PowerPoint.pptx', 'Текстовый документ.txt', 'Точечный рисунок.bmp']\n",
      "['cat.gif', 'dog.gif', 'pig.gif']\n"
     ]
    }
   ],
   "source": [
    "ls = os.listdir(path=\"gifs\")\n",
    "print(ls)\n",
    "\n",
    "gif = list()\n",
    "for obj in ls:\n",
    "    if '.gif' in obj:\n",
    "        gif.append(obj)\n",
    "print(gif)"
   ]
  },
  {
   "cell_type": "markdown",
   "metadata": {
    "id": "ri_VgtjM7-5-"
   },
   "source": [
    "18. Создать папку с названием temp и удалить её (★☆☆)"
   ]
  },
  {
   "cell_type": "code",
   "execution_count": 19,
   "metadata": {
    "id": "om3C97ME7-5-"
   },
   "outputs": [],
   "source": [
    "os.mkdir('temp')\n",
    "os.rmdir('temp')"
   ]
  },
  {
   "cell_type": "markdown",
   "metadata": {
    "id": "6N333x6h7-5-"
   },
   "source": [
    "19. Вывести переменные среды (★☆☆)\n",
    "\n",
    "(hint: environ)"
   ]
  },
  {
   "cell_type": "code",
   "execution_count": 20,
   "metadata": {
    "id": "8zt8jasf7-5-"
   },
   "outputs": [
    {
     "name": "stdout",
     "output_type": "stream",
     "text": [
      "environ({'ALLUSERSPROFILE': 'C:\\\\ProgramData', 'APPDATA': 'C:\\\\Users\\\\maxim\\\\AppData\\\\Roaming', 'COMMONPROGRAMFILES': 'C:\\\\Program Files\\\\Common Files', 'COMMONPROGRAMFILES(X86)': 'C:\\\\Program Files (x86)\\\\Common Files', 'COMMONPROGRAMW6432': 'C:\\\\Program Files\\\\Common Files', 'COMPUTERNAME': 'DESKTOP-BP378FS', 'COMSPEC': 'C:\\\\WINDOWS\\\\system32\\\\cmd.exe', 'CONDA_DEFAULT_ENV': 'base', 'CONDA_EXE': 'C:\\\\ProgramData\\\\Anaconda3\\\\Scripts\\\\conda.exe', 'CONDA_PROMPT_MODIFIER': '(base) ', 'CONDA_PYTHON_EXE': 'C:\\\\ProgramData\\\\Anaconda3\\\\python.exe', 'CONDA_SHLVL': '1', 'DRIVERDATA': 'C:\\\\Windows\\\\System32\\\\Drivers\\\\DriverData', 'FPS_BROWSER_APP_PROFILE_STRING': 'Internet Explorer', 'FPS_BROWSER_USER_PROFILE_STRING': 'Default', 'GST_PLUGIN_PATH': 'C:\\\\Program Files\\\\Prosoft-Systems\\\\Redkit\\\\gstplugins', 'HOMEDRIVE': 'C:', 'HOMEPATH': '\\\\Users\\\\maxim', 'INTELLIJ IDEA COMMUNITY EDITION': 'C:\\\\Program Files\\\\JetBrains\\\\IntelliJ IDEA Community Edition 2021.2.2\\\\bin;', 'KOMPAS_SDK': 'C:\\\\Program Files\\\\ASCON\\\\KOMPAS-3D v19 Study\\\\SDK\\\\', 'LOCALAPPDATA': 'C:\\\\Users\\\\maxim\\\\AppData\\\\Local', 'LOGONSERVER': '\\\\\\\\DESKTOP-BP378FS', 'NUMBER_OF_PROCESSORS': '8', 'NVM_HOME': 'C:\\\\Users\\\\maxim\\\\AppData\\\\Roaming\\\\nvm', 'NVM_SYMLINK': 'C:\\\\Program Files\\\\nodejs', 'ONEDRIVE': 'C:\\\\Users\\\\maxim\\\\OneDrive', 'OS': 'Windows_NT', 'PATH': 'C:\\\\ProgramData\\\\Anaconda3;C:\\\\ProgramData\\\\Anaconda3\\\\Library\\\\mingw-w64\\\\bin;C:\\\\ProgramData\\\\Anaconda3\\\\Library\\\\usr\\\\bin;C:\\\\ProgramData\\\\Anaconda3\\\\Library\\\\bin;C:\\\\ProgramData\\\\Anaconda3\\\\Scripts;C:\\\\ProgramData\\\\Anaconda3\\\\bin;C:\\\\ProgramData\\\\Anaconda3\\\\condabin;C:\\\\ProgramData\\\\Anaconda3;C:\\\\ProgramData\\\\Anaconda3\\\\Library\\\\mingw-w64\\\\bin;C:\\\\ProgramData\\\\Anaconda3\\\\Library\\\\usr\\\\bin;C:\\\\ProgramData\\\\Anaconda3\\\\Library\\\\bin;C:\\\\ProgramData\\\\Anaconda3\\\\Scripts;C:\\\\Windows\\\\system32;C:\\\\Windows;C:\\\\Windows\\\\System32\\\\Wbem;C:\\\\Windows\\\\System32\\\\WindowsPowerShell\\\\v1.0;C:\\\\Windows\\\\System32\\\\OpenSSH;C:\\\\Program Files\\\\PuTTY;C:\\\\Program Files\\\\Microsoft SQL Server\\\\130\\\\Tools\\\\Binn;C:\\\\WINDOWS\\\\system32;C:\\\\WINDOWS;C:\\\\WINDOWS\\\\System32\\\\Wbem;C:\\\\WINDOWS\\\\System32\\\\WindowsPowerShell\\\\v1.0;C:\\\\WINDOWS\\\\System32\\\\OpenSSH;C:\\\\Users\\\\maxim\\\\AppData\\\\Roaming\\\\nvm;C:\\\\Program Files\\\\nodejs;C:\\\\Program Files\\\\Git\\\\cmd;C:\\\\Program Files (x86)\\\\NVIDIA Corporation\\\\PhysX\\\\Common;C:\\\\Program Files\\\\Docker\\\\Docker\\\\resources\\\\bin;C:\\\\ProgramData\\\\DockerDesktop\\\\version-bin;C:\\\\Program Files\\\\PostgreSQL\\\\13\\\\bin;C:\\\\Program Files\\\\LLVM\\\\bin;C:\\\\Program Files\\\\CMake\\\\bin;C:\\\\Program Files (x86)\\\\Windows Kits\\\\10\\\\Windows Performance Toolkit;C:\\\\Program Files\\\\PostgreSQL\\\\13\\\\bin;C:\\\\Program Files\\\\PostgresPro\\\\13\\\\bin;C:\\\\Users\\\\maxim\\\\AppData\\\\Local\\\\Microsoft\\\\WindowsApps;C:\\\\Program Files\\\\JetBrains\\\\PyCharm Community Edition 2021.2.2\\\\bin;.;C:\\\\Program Files\\\\JetBrains\\\\IntelliJ IDEA Community Edition 2021.2.2\\\\bin;.;C:\\\\Users\\\\maxim\\\\AppData\\\\Local\\\\Programs\\\\Microsoft VS Code\\\\bin;C:\\\\Users\\\\maxim\\\\AppData\\\\Roaming\\\\nvm;C:\\\\Program Files\\\\nodejs;C:\\\\Users\\\\maxim\\\\AppData\\\\Roaming\\\\npm;C:\\\\MinGW\\\\bin;.', 'PATHEXT': '.COM;.EXE;.BAT;.CMD;.VBS;.VBE;.JS;.JSE;.WSF;.WSH;.MSC', 'PGDATA': 'C:\\\\pgData', 'PGDATABASE': 'postgres', 'PGLOCALEDIR': 'C:\\\\Program Files\\\\PostgresPro\\\\13\\\\share\\\\locale\\\\', 'PGPORT': '5432', 'PGUSER': 'postgres', 'PROCESSOR_ARCHITECTURE': 'AMD64', 'PROCESSOR_IDENTIFIER': 'Intel64 Family 6 Model 158 Stepping 10, GenuineIntel', 'PROCESSOR_LEVEL': '6', 'PROCESSOR_REVISION': '9e0a', 'PROGRAMDATA': 'C:\\\\ProgramData', 'PROGRAMFILES': 'C:\\\\Program Files', 'PROGRAMFILES(X86)': 'C:\\\\Program Files (x86)', 'PROGRAMW6432': 'C:\\\\Program Files', 'PROMPT': '(base) $P$G', 'PSMODULEPATH': 'C:\\\\Program Files\\\\WindowsPowerShell\\\\Modules;C:\\\\WINDOWS\\\\system32\\\\WindowsPowerShell\\\\v1.0\\\\Modules', 'PUBLIC': 'C:\\\\Users\\\\Public', 'PYCHARM COMMUNITY EDITION': 'C:\\\\Program Files\\\\JetBrains\\\\PyCharm Community Edition 2021.2.2\\\\bin;', 'QT_LOGGING_CONF': 'C:\\\\Users\\\\maxim\\\\AppData\\\\Roaming\\\\ProSoft-Systems\\\\Redkit\\\\Redkit-Logging.ini', 'SESSIONNAME': 'Console', 'SYSTEMDRIVE': 'C:', 'SYSTEMROOT': 'C:\\\\WINDOWS', 'TEMP': 'C:\\\\Users\\\\maxim\\\\AppData\\\\Local\\\\Temp', 'TMP': 'C:\\\\Users\\\\maxim\\\\AppData\\\\Local\\\\Temp', 'USERDOMAIN': 'DESKTOP-BP378FS', 'USERDOMAIN_ROAMINGPROFILE': 'DESKTOP-BP378FS', 'USERNAME': 'maxim', 'USERPROFILE': 'C:\\\\Users\\\\maxim', 'VBOX_MSI_INSTALL_PATH': 'C:\\\\Program Files\\\\Oracle\\\\VirtualBox\\\\', 'WINDIR': 'C:\\\\WINDOWS', 'ZES_ENABLE_SYSMAN': '1', 'CONDA_PREFIX': 'C:\\\\ProgramData\\\\Anaconda3', 'CONDA_ROOT': 'C:\\\\ProgramData\\\\Anaconda3', 'PYDEVD_USE_FRAME_EVAL': 'NO', 'JPY_INTERRUPT_EVENT': '2652', 'IPY_INTERRUPT_EVENT': '2652', 'JPY_PARENT_PID': '2740', 'TERM': 'xterm-color', 'CLICOLOR': '1', 'PAGER': 'cat', 'GIT_PAGER': 'cat', 'MPLBACKEND': 'module://matplotlib_inline.backend_inline'})\n"
     ]
    }
   ],
   "source": [
    "print(os.environ)"
   ]
  },
  {
   "cell_type": "markdown",
   "metadata": {
    "id": "s23izIbV7-5-"
   },
   "source": [
    "20. Как игнорировать warrnings?"
   ]
  },
  {
   "cell_type": "code",
   "execution_count": 21,
   "metadata": {},
   "outputs": [],
   "source": [
    "import warnings\n",
    "warnings.filterwarnings('ignore')"
   ]
  },
  {
   "cell_type": "markdown",
   "metadata": {
    "id": "XE6k7cay7-5-"
   },
   "source": [
    "* Про datetime и timedelta \n",
    "\n",
    "https://www.guru99.com/date-time-and-datetime-classes-in-python.html"
   ]
  },
  {
   "cell_type": "code",
   "execution_count": 22,
   "metadata": {},
   "outputs": [],
   "source": [
    "import datetime"
   ]
  },
  {
   "cell_type": "markdown",
   "metadata": {
    "id": "SzCH8oZO7-5-"
   },
   "source": [
    "21. Вывести сегодняшнюю, вчерашнюю и завтрашнюю дату (☆☆☆)"
   ]
  },
  {
   "cell_type": "code",
   "execution_count": 23,
   "metadata": {
    "id": "J4duLqPc7-5_"
   },
   "outputs": [
    {
     "name": "stdout",
     "output_type": "stream",
     "text": [
      "Вчера 2022-10-28 22:49:06.693244\n",
      "Сегодня 2022-10-29 22:49:06.693244\n",
      "Завтра 2022-10-30 22:49:06.693244\n"
     ]
    }
   ],
   "source": [
    "print(\"Вчера\", datetime.datetime.today() - datetime.timedelta(days=1))\n",
    "print(\"Сегодня\", datetime.datetime.today())\n",
    "print(\"Завтра\", datetime.datetime.today() + datetime.timedelta(days=1))"
   ]
  },
  {
   "cell_type": "markdown",
   "metadata": {
    "id": "MLqVlaHK7-5_"
   },
   "source": [
    "22. Вывести день недели сегодняшней даты (★☆☆)"
   ]
  },
  {
   "cell_type": "code",
   "execution_count": 24,
   "metadata": {
    "id": "G8SGml7y7-5_"
   },
   "outputs": [
    {
     "name": "stdout",
     "output_type": "stream",
     "text": [
      "Сегодня Saturday\n"
     ]
    }
   ],
   "source": [
    "print(\"Сегодня\", datetime.datetime.today().strftime(\"%A\"))"
   ]
  },
  {
   "cell_type": "markdown",
   "metadata": {
    "id": "REha1tAt7-5_"
   },
   "source": [
    "23. Получить список дат за предыдущую неделю (★★☆)"
   ]
  },
  {
   "cell_type": "code",
   "execution_count": 25,
   "metadata": {
    "id": "59rDsO2X7-5_"
   },
   "outputs": [
    {
     "name": "stdout",
     "output_type": "stream",
     "text": [
      "['17.10.2022', '18.10.2022', '19.10.2022', '20.10.2022', '21.10.2022', '22.10.2022', '23.10.2022']\n"
     ]
    }
   ],
   "source": [
    "today = datetime.date.today()\n",
    "start = today - datetime.timedelta(days=today.weekday(), weeks=1)\n",
    "\n",
    "week = list()\n",
    "for i in range(7):\n",
    "    week.append((start + datetime.timedelta(days=i)).strftime(\"%d.%m.%Y\"))\n",
    "print(week)"
   ]
  },
  {
   "cell_type": "markdown",
   "metadata": {
    "id": "eGzHWYoJ7-5_"
   },
   "source": [
    "24. Вывести дату с часами и минутами, отформатировать в формате: 01.12.2019 00:12:54 (★★☆)\n",
    "            \n",
    "(hint: now().strftime())"
   ]
  },
  {
   "cell_type": "code",
   "execution_count": 26,
   "metadata": {
    "id": "ERifWa0x7-5_"
   },
   "outputs": [
    {
     "name": "stdout",
     "output_type": "stream",
     "text": [
      "29.10.2022 22:49:09\n"
     ]
    }
   ],
   "source": [
    "print(datetime.datetime.now().strftime(\"%d.%m.%Y %H:%M:%S\"))"
   ]
  },
  {
   "cell_type": "markdown",
   "metadata": {
    "id": "xtw6syHf7-5_"
   },
   "source": [
    "25. Исходя из текущей даты вычислить дату предыдущего понедельника (★★★)"
   ]
  },
  {
   "cell_type": "code",
   "execution_count": 27,
   "metadata": {
    "id": "2j3IO3nm7-6A"
   },
   "outputs": [
    {
     "name": "stdout",
     "output_type": "stream",
     "text": [
      "2022-10-17\n"
     ]
    }
   ],
   "source": [
    "today = datetime.date.today()\n",
    "print(today - datetime.timedelta(days=today.weekday(), weeks=1))"
   ]
  },
  {
   "cell_type": "markdown",
   "metadata": {
    "id": "erB0b_lQ7-6A"
   },
   "source": [
    "# Numpy"
   ]
  },
  {
   "cell_type": "markdown",
   "metadata": {
    "id": "PGAVDzpv7-6A"
   },
   "source": [
    "### numpy в картинках (реально лучший):\n",
    "\n",
    "https://jalammar.github.io/visual-numpy/"
   ]
  },
  {
   "cell_type": "code",
   "execution_count": 28,
   "metadata": {
    "id": "I2hMMh4J7-6A"
   },
   "outputs": [],
   "source": [
    "import numpy as np"
   ]
  },
  {
   "cell_type": "markdown",
   "metadata": {
    "id": "Zc2HN9ah7-6A"
   },
   "source": [
    "1. Задать нулевой вектор размером 10 (★☆☆)\n",
    "\n",
    "(hint: np.zeros)"
   ]
  },
  {
   "cell_type": "code",
   "execution_count": 29,
   "metadata": {
    "id": "Mo3_ncPr7-6A"
   },
   "outputs": [
    {
     "name": "stdout",
     "output_type": "stream",
     "text": [
      "[0. 0. 0. 0. 0. 0. 0. 0. 0. 0.]\n"
     ]
    }
   ],
   "source": [
    "array = np.zeros(10)\n",
    "print(array)"
   ]
  },
  {
   "cell_type": "markdown",
   "metadata": {
    "id": "zo6g4t_O7-6A"
   },
   "source": [
    "2. Как найти размер занимаемой памяти любым массивом (★☆☆)\n",
    "\n",
    "(hint: size, itemsize)"
   ]
  },
  {
   "cell_type": "code",
   "execution_count": 30,
   "metadata": {
    "id": "H4u2UL4R7-6A"
   },
   "outputs": [
    {
     "name": "stdout",
     "output_type": "stream",
     "text": [
      "Размер массива 10\n",
      "Размер элемента 8\n",
      "Размер занимаемой памяти массивом 80\n"
     ]
    }
   ],
   "source": [
    "print(\"Размер массива\", array.size)\n",
    "print(\"Размер элемента\", array.itemsize)\n",
    "print(\"Размер занимаемой памяти массивом\", array.size*array.itemsize)"
   ]
  },
  {
   "cell_type": "markdown",
   "metadata": {
    "id": "RgMlxewK7-6A"
   },
   "source": [
    "3. Создать вектор из 10 нулей, кроме пятого элемента, который равен 1 (★☆☆)"
   ]
  },
  {
   "cell_type": "code",
   "execution_count": 31,
   "metadata": {
    "id": "jiQkXc4O7-6A"
   },
   "outputs": [
    {
     "name": "stdout",
     "output_type": "stream",
     "text": [
      "[0 0 0 0 1 0 0 0 0 0]\n"
     ]
    }
   ],
   "source": [
    "print((np.arange(10) == 4).astype(int))"
   ]
  },
  {
   "cell_type": "markdown",
   "metadata": {
    "id": "kPEle2qT7-6B"
   },
   "source": [
    "4. Создать вектор от 10 до 50 включительно (★☆☆)\n",
    "\n",
    "(hint:np.arange)"
   ]
  },
  {
   "cell_type": "code",
   "execution_count": 32,
   "metadata": {
    "id": "fJnAkqW-7-6B"
   },
   "outputs": [
    {
     "name": "stdout",
     "output_type": "stream",
     "text": [
      "[10 11 12 13 14 15 16 17 18 19 20 21 22 23 24 25 26 27 28 29 30 31 32 33\n",
      " 34 35 36 37 38 39 40 41 42 43 44 45 46 47 48 49 50]\n"
     ]
    }
   ],
   "source": [
    "array = np.arange(10,51)\n",
    "print(array)"
   ]
  },
  {
   "cell_type": "markdown",
   "metadata": {
    "id": "9P1_c7se7-6B"
   },
   "source": [
    "5. Перевернуть вектор (первый элемент будет последним) (★☆☆)"
   ]
  },
  {
   "cell_type": "code",
   "execution_count": 33,
   "metadata": {
    "id": "nZ8mw8B67-6B"
   },
   "outputs": [
    {
     "name": "stdout",
     "output_type": "stream",
     "text": [
      "[50 49 48 47 46 45 44 43 42 41 40 39 38 37 36 35 34 33 32 31 30 29 28 27\n",
      " 26 25 24 23 22 21 20 19 18 17 16 15 14 13 12 11 10]\n"
     ]
    }
   ],
   "source": [
    "print(np.flip(array))"
   ]
  },
  {
   "cell_type": "markdown",
   "metadata": {
    "id": "431qEvN87-6B"
   },
   "source": [
    "6. Создать матрицу 3х3 с элементами от 0 до 8 (★☆☆)\n",
    "\n",
    "(hint: reshape)"
   ]
  },
  {
   "cell_type": "code",
   "execution_count": 34,
   "metadata": {
    "id": "b4A8JfF37-6B"
   },
   "outputs": [
    {
     "name": "stdout",
     "output_type": "stream",
     "text": [
      "[[0 1 2]\n",
      " [3 4 5]\n",
      " [6 7 8]]\n"
     ]
    }
   ],
   "source": [
    "print(np.arange(9).reshape(3,3))"
   ]
  },
  {
   "cell_type": "markdown",
   "metadata": {
    "id": "PMb49oNH7-6B"
   },
   "source": [
    "7. Найти индексы не нулевых элементов в numpy array [1,2,0,0,4,0] (★☆☆)\n",
    "\n",
    "(hint: np.nonzero)"
   ]
  },
  {
   "cell_type": "code",
   "execution_count": 35,
   "metadata": {
    "id": "K8dAIKrt7-6B"
   },
   "outputs": [
    {
     "name": "stdout",
     "output_type": "stream",
     "text": [
      "[0 1 4]\n"
     ]
    }
   ],
   "source": [
    "array = np.array([1,2,0,0,4,0])\n",
    "print(np.nonzero(array)[0])"
   ]
  },
  {
   "cell_type": "markdown",
   "metadata": {
    "id": "jmOnmP6b7-6B"
   },
   "source": [
    "8. Создать матрицу 10x10 array с рандомными числами и найти минимум, максимум и среднее (★☆☆)"
   ]
  },
  {
   "cell_type": "code",
   "execution_count": 36,
   "metadata": {
    "id": "PvbVEYkt7-6B"
   },
   "outputs": [
    {
     "name": "stdout",
     "output_type": "stream",
     "text": [
      "Минимум = 0.0061349004644365435, среднее = 0.9990271071092391, максимум = 0.5240817504859187\n"
     ]
    }
   ],
   "source": [
    "matrix = np.random.random((10,10))\n",
    "print('Минимум = {0}, среднее = {1}, максимум = {2}'.format(matrix.min(), matrix.max(), matrix.mean()))"
   ]
  },
  {
   "cell_type": "markdown",
   "metadata": {
    "id": "7Akk1awh7-6C"
   },
   "source": [
    "9. Создать матрицу 8x8 и заполнить 0 и 1 в стиле шахматной доски (★☆☆)\n",
    "\n",
    "(hint: array[::n])"
   ]
  },
  {
   "cell_type": "code",
   "execution_count": 37,
   "metadata": {
    "id": "825TezXL7-6C"
   },
   "outputs": [
    {
     "name": "stdout",
     "output_type": "stream",
     "text": [
      "[[0 1 0 1 0 1 0 1]\n",
      " [1 0 1 0 1 0 1 0]\n",
      " [0 1 0 1 0 1 0 1]\n",
      " [1 0 1 0 1 0 1 0]\n",
      " [0 1 0 1 0 1 0 1]\n",
      " [1 0 1 0 1 0 1 0]\n",
      " [0 1 0 1 0 1 0 1]\n",
      " [1 0 1 0 1 0 1 0]]\n"
     ]
    }
   ],
   "source": [
    "matrix = np.zeros((8,8), dtype=int)\n",
    "matrix[1::2,::2] = 1\n",
    "matrix[::2,1::2] = 1\n",
    "print(matrix)"
   ]
  },
  {
   "cell_type": "markdown",
   "metadata": {
    "id": "tPItbLuk7-6C"
   },
   "source": [
    "10. Нормализовать рандомную матрицу 5x5 (★☆☆)\n",
    "\n",
    "(hint: (x - mean) / std)"
   ]
  },
  {
   "cell_type": "code",
   "execution_count": 38,
   "metadata": {
    "id": "NxpOioEr7-6C"
   },
   "outputs": [
    {
     "name": "stdout",
     "output_type": "stream",
     "text": [
      "0.9999999999999998 1.3322676295501878e-17\n"
     ]
    }
   ],
   "source": [
    "matrix = np.random.random((5,5))\n",
    "matrix = (matrix-matrix.mean())/matrix.std()\n",
    "print(matrix.std(), matrix.mean())"
   ]
  },
  {
   "cell_type": "markdown",
   "metadata": {
    "id": "rpnPFQiD7-6C"
   },
   "source": [
    "11. Найти общие элементы между двумя массивами\n",
    "\n",
    "(hint: np.intersect1d)"
   ]
  },
  {
   "cell_type": "code",
   "execution_count": 39,
   "metadata": {
    "id": "Om2KNfr57-6C"
   },
   "outputs": [
    {
     "name": "stdout",
     "output_type": "stream",
     "text": [
      "[2 4]\n"
     ]
    }
   ],
   "source": [
    "a = np.array([7, 5, 4, 1, 2])\n",
    "b = np.array([3, 2, 6, 4, 8])\n",
    "\n",
    "print(np.intersect1d(a, b))"
   ]
  },
  {
   "cell_type": "markdown",
   "metadata": {
    "id": "aqQ7cw7Z7-6C"
   },
   "source": [
    "12. Извлечь целую часть рандомного массива чисел различными способами (максимум 5) (★★☆)"
   ]
  },
  {
   "cell_type": "code",
   "execution_count": 40,
   "metadata": {
    "id": "km63zOAL7-6C"
   },
   "outputs": [
    {
     "name": "stdout",
     "output_type": "stream",
     "text": [
      "[33. 66. 12. 48. 24.  5. 17. 45. 94. 51.]\n"
     ]
    }
   ],
   "source": [
    "array = np.random.random(10)*100\n",
    "print(np.array(list(map(lambda x: np.round(x), array))))"
   ]
  },
  {
   "cell_type": "markdown",
   "metadata": {
    "id": "f_rFnjH37-6C"
   },
   "source": [
    "13. Создать рандомный вектор размера 10 и отсортировать его (★★☆)"
   ]
  },
  {
   "cell_type": "code",
   "execution_count": 41,
   "metadata": {
    "id": "QfFtNYNg7-6C"
   },
   "outputs": [
    {
     "name": "stdout",
     "output_type": "stream",
     "text": [
      "[0.02445621 0.0907676  0.11931147 0.12197473 0.49638193 0.78449733\n",
      " 0.81803408 0.84097656 0.84103698 0.91299821]\n"
     ]
    }
   ],
   "source": [
    "print(np.sort(np.random.random(10)))"
   ]
  },
  {
   "cell_type": "markdown",
   "metadata": {
    "id": "bJzpgOl37-6D"
   },
   "source": [
    "14. Проверить одинаковы ли два рандомных массива А и B (★★☆)\n",
    "\n",
    "(hint: np.allclose, np.array_equal)"
   ]
  },
  {
   "cell_type": "code",
   "execution_count": 42,
   "metadata": {
    "id": "6n303JJr7-6D"
   },
   "outputs": [
    {
     "name": "stdout",
     "output_type": "stream",
     "text": [
      "Неравны\n"
     ]
    }
   ],
   "source": [
    "a = np.array([7, 5, 4, 1, 2])\n",
    "b = np.array([3, 2, 6, 4, 8])\n",
    "\n",
    "print('Равны' if np.array_equal(a,b) else 'Неравны')"
   ]
  },
  {
   "cell_type": "markdown",
   "metadata": {
    "id": "JoJglzhz7-6D"
   },
   "source": [
    "15. Создать рандомный ветор размером 10 и максимальный элемент заменить на -1 (★★☆)\n",
    "\n",
    "(hint: argmax)"
   ]
  },
  {
   "cell_type": "code",
   "execution_count": 43,
   "metadata": {
    "id": "e5mGRtnL7-6D"
   },
   "outputs": [
    {
     "name": "stdout",
     "output_type": "stream",
     "text": [
      "[0.11547651 0.4497239  0.04759878 0.68018228 0.89674154 0.46388\n",
      " 0.71378923 0.54246816 0.71244067 0.69231974]\n",
      "[ 0.11547651  0.4497239   0.04759878  0.68018228 -1.          0.46388\n",
      "  0.71378923  0.54246816  0.71244067  0.69231974]\n"
     ]
    }
   ],
   "source": [
    "array = np.random.random(10)\n",
    "print(array)\n",
    "array[np.argmax(array)] = -1\n",
    "print(array)"
   ]
  },
  {
   "cell_type": "markdown",
   "metadata": {
    "id": "mAGLVuFF7-6D"
   },
   "source": [
    "16. Найдите самый близкий элемент к данному рандомному числу в векторе? (★★☆)\n",
    "\n",
    "(hint: argmin)"
   ]
  },
  {
   "cell_type": "code",
   "execution_count": 44,
   "metadata": {
    "id": "89qRlKiw7-6D"
   },
   "outputs": [
    {
     "name": "stdout",
     "output_type": "stream",
     "text": [
      "43.95032094683208\n",
      "44\n"
     ]
    }
   ],
   "source": [
    "Z = np.arange(100)\n",
    "v = np.random.uniform(0,100)\n",
    "print(v)\n",
    "index = (np.abs(Z - v)).argmin()\n",
    "print(Z[index])"
   ]
  },
  {
   "cell_type": "markdown",
   "metadata": {
    "id": "36WBkhF-7-6D"
   },
   "source": [
    "17. Посчитать среднее для каждой строки матрицы (★★☆)"
   ]
  },
  {
   "cell_type": "code",
   "execution_count": 45,
   "metadata": {
    "id": "GnLZw8aJ7-6D"
   },
   "outputs": [
    {
     "name": "stdout",
     "output_type": "stream",
     "text": [
      "[0.8107579601746494, 0.7459813438055383, 0.507691588035755, 0.5066779130838965, 0.6221972770625721]\n"
     ]
    }
   ],
   "source": [
    "matrix = np.random.random((5,5))\n",
    "print([row.mean() for row in matrix])"
   ]
  },
  {
   "cell_type": "markdown",
   "metadata": {
    "id": "uh0PaELi7-6D"
   },
   "source": [
    "18. Посчитать среднее со скользящим окном над массивом (★★★)\n",
    "\n",
    "(hint: np.cumsum)"
   ]
  },
  {
   "cell_type": "code",
   "execution_count": 46,
   "metadata": {
    "id": "G1FMXEzw7-6D"
   },
   "outputs": [
    {
     "name": "stdout",
     "output_type": "stream",
     "text": [
      "[1. 2. 3. 4. 5. 6. 7. 8.]\n"
     ]
    }
   ],
   "source": [
    "array = np.arange(10)\n",
    "n = 3\n",
    "cs = np.cumsum(array)\n",
    "cs[n:] = cs[n:] - cs[:-n]\n",
    "cs = cs[n - 1:]/n\n",
    "print(cs)"
   ]
  },
  {
   "cell_type": "markdown",
   "metadata": {
    "id": "39MrQOOQ7-6D"
   },
   "source": [
    "<img src=\"gifs/bender.gif\" width=\"400\">"
   ]
  },
  {
   "cell_type": "markdown",
   "metadata": {
    "id": "hjyrzC-K7-6E"
   },
   "source": [
    "# Regular expressions\n",
    "\n",
    "* Cупер статья на все времена. Особенно понятно все про такие сложные штуки как lookaround. \n",
    "\n",
    "https://habr.com/ru/post/349860/\n",
    "\n",
    "\n",
    "* Задания на регулярки\n",
    "\n",
    "https://regexone.com/\n",
    "\n",
    "* На этом сайте удобно тестировать регулярку, которую мучаешь, можно написать несколько примеров и тестировать на них. Важно не забывать выбирать Python:\n",
    "\n",
    "https://regex101.com/"
   ]
  },
  {
   "cell_type": "markdown",
   "metadata": {
    "id": "Qyr-_5kN7-6E"
   },
   "source": [
    "1. Из строки в файле data/rejson.txt вытащить хэш. Пример:\n",
    "\n",
    "'master_guid': '<b>233880bb4c50d247f84edc9cac9e6e29</b>_2308194320'"
   ]
  },
  {
   "cell_type": "code",
   "execution_count": 47,
   "metadata": {
    "id": "snI9_pDw7-6E"
   },
   "outputs": [
    {
     "name": "stdout",
     "output_type": "stream",
     "text": [
      "['233880bb4c50d247f84edc9cac9e6e29']\n",
      "['233sd0bb4c50d247f84edc9cac9e6e20']\n",
      "['ds3880bb4c50d247f84edc9cac9e6e21']\n",
      "['458rg5bb4c50d247f84edc9cac9e6e22']\n",
      "['233645bb4c50d247f84edc9cac9e6e23']\n",
      "['hjghj33545bb4c50d247f84edc9cac94']\n",
      "['23cdhhgf0bb4c50d247f84edc9cac925']\n",
      "['233880bb4c50d247f84edk5n34lk5n26']\n",
      "['243534b4c505kl34m534dc9cac9e6e27']\n",
      "['4353gef80bb4creterg0d247f84ede28']\n"
     ]
    }
   ],
   "source": [
    "import re\n",
    "\n",
    "file = open('data/rejson.txt','r')\n",
    "\n",
    "for row in file:\n",
    "    print(re.findall(r\"\\s'(\\w+)_\", row))"
   ]
  },
  {
   "cell_type": "markdown",
   "metadata": {
    "id": "LvMyVVti7-6E"
   },
   "source": [
    "# Pandas"
   ]
  },
  {
   "cell_type": "markdown",
   "metadata": {
    "id": "1phjMjs87-6E"
   },
   "source": [
    "* Pandas в картинках\n",
    "\n",
    "https://jalammar.github.io/gentle-visual-intro-to-data-analysis-python-pandas/\n",
    "\n",
    "* 10 minutes to pandas\n",
    "\n",
    "https://pandas.pydata.org/pandas-docs/stable/getting_started/10min.html\n",
    "\n",
    "* 🐼реально классный твиттер чувака с крутыми pandas tricks:\n",
    "    \n",
    "https://mobile.twitter.com/i/moments/1158828895547854849"
   ]
  },
  {
   "cell_type": "markdown",
   "metadata": {
    "id": "h4gw10e_7-6E"
   },
   "source": [
    "<img src=\"gifs/inprogress.gif\" width=\"400\">"
   ]
  }
 ],
 "metadata": {
  "colab": {
   "provenance": []
  },
  "kernelspec": {
   "display_name": "Python 3 (ipykernel)",
   "language": "python",
   "name": "python3"
  },
  "language_info": {
   "codemirror_mode": {
    "name": "ipython",
    "version": 3
   },
   "file_extension": ".py",
   "mimetype": "text/x-python",
   "name": "python",
   "nbconvert_exporter": "python",
   "pygments_lexer": "ipython3",
   "version": "3.9.12"
  }
 },
 "nbformat": 4,
 "nbformat_minor": 1
}
